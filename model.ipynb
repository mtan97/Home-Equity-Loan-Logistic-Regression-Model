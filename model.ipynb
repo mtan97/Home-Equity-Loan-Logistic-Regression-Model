{
 "cells": [
  {
   "cell_type": "code",
   "execution_count": null,
   "metadata": {},
   "outputs": [],
   "source": [
    "import os\n",
    "import pandas as pd\n",
    "import numpy as np\n",
    "import sqlalchemy\n",
    "from sqlalchemy import create_engine\n",
    "import psycopg2\n",
    "import matplotlib.pyplot as plt\n",
    "import seaborn as sns\n",
    "from sklearn import preprocessing\n",
    "from sklearn.preprocessing import StandardScaler\n",
    "from sklearn.feature_selection import SelectKBest, chi2\n",
    "from sklearn.linear_model import LogisticRegression\n",
    "from sklearn.model_selection import train_test_split, GridSearchCV\n",
    "from sklearn.metrics import confusion_matrix, accuracy_score, classification_report"
   ]
  },
  {
   "cell_type": "code",
   "execution_count": null,
   "metadata": {},
   "outputs": [],
   "source": [
    "#Connect to local postgres database\n",
    "conn = psycopg2.connect(database=\"delinquency_model\", user=\"michael\" , password=\"Azn4life!\" , host=\"127.0.0.1\") #ommitted login information for privacy\n",
    "cur = conn.cursor()"
   ]
  },
  {
   "cell_type": "code",
   "execution_count": null,
   "metadata": {},
   "outputs": [],
   "source": [
    "#Query to create and populate tables(loans, borrower)\n",
    "#Tables are in localhost database called delinquency_model\n",
    "create_table_query = \"\"\"\n",
    "DROP TABLE IF EXISTS borrower;\n",
    "CREATE TABLE borrower (\n",
    "    Account_Number integer,\n",
    "    First_Name varchar(100),\n",
    "    Last_Name varchar(100),\n",
    "    Zip_Code INTEGER,\n",
    "    Country_Code varchar(50),\n",
    "    Income_Annual money,\n",
    "    Total_Mortgage_Balances integer,\n",
    "    Total_HE_Balances integer,\n",
    "    Num_Trades_Past_Due integer,\n",
    "    Num_He_Trades integer   \n",
    ");\n",
    "\n",
    "DROP TABLE IF EXISTS loans;\n",
    "CREATE TABLE loans (\n",
    "    Account_Number integer,\n",
    "    Month timestamp,\n",
    "    Product varchar(100),\n",
    "    FICO_Score_Original integer,\n",
    "    FICO_Score_Current integer,\n",
    "    Origination_Date timestamp,\n",
    "    Maturity_Date timestamp,\n",
    "    Commitments decimal,\n",
    "    Outstandings decimal,\n",
    "    LTV_Original decimal,\n",
    "    LTV_Current decimal,\n",
    "    Lien_Position varchar(100),\n",
    "    Day_Past_Due integer,\n",
    "    Interest_Variability_Code varchar(50),\n",
    "    Collateral_Value money,\n",
    "    Payment_Amount money,\n",
    "    Origination_DTI decimal,\n",
    "    APR decimal\n",
    "    \n",
    ");\n",
    "\n",
    "COPY borrower FROM '/Users/michaeltan/dev/venv/HELOAN Delinquency Model/Data/borrower.csv' DELIMITER ',' CSV HEADER;\n",
    "COPY loans FROM '/Users/michaeltan/dev/venv/HELOAN Delinquency Model/Data/loans.csv' DELIMITER ',' CSV HEADER;\n",
    "\n",
    "\"\"\""
   ]
  },
  {
   "cell_type": "code",
   "execution_count": null,
   "metadata": {},
   "outputs": [],
   "source": [
    "#Execute create_table_query\n",
    "cur.execute(create_table_query)"
   ]
  },
  {
   "cell_type": "code",
   "execution_count": null,
   "metadata": {},
   "outputs": [],
   "source": [
    "#Query to clean data\n",
    "query = '''\n",
    "--Add new column with days_past_due of next month, used as delinquency training outcome\n",
    "--join borrower info onto each account \n",
    "WITH loans2 AS (\n",
    "\n",
    "SELECT \n",
    "    a.*,\n",
    "    b.day_past_due as day_past_due_next_month,\n",
    "    c.total_mortgage_balances,\n",
    "    c.total_he_balances,\n",
    "    c.num_trades_past_due,\n",
    "    c.num_he_trades\n",
    "    \n",
    "FROM loans as a\n",
    "LEFT JOIN loans as b\n",
    "    ON a.account_number = b.account_number\n",
    "        AND date_trunc('month', a.month) = date_trunc('month', b.month - interval '1' month)\n",
    "LEFT JOIN borrower as c\n",
    "    ON a.account_number = c.account_number\n",
    "    \n",
    "),\n",
    "\n",
    "--clean rows of empty or missing data\n",
    "clean_rows AS (\n",
    "\n",
    "SELECT \n",
    "    *\n",
    "FROM loans2\n",
    "WHERE COALESCE(commitments, apr, fico_score_current, ltv_current) != 0 --no line of credit so not relevant to predicting current customers. will keep APR because high apr represents high risk\n",
    "    AND COALESCE(loans2.*) is not null\n",
    "    \n",
    "),\n",
    "\n",
    "\n",
    "\n",
    "--Only select columns used as predictors\n",
    "--Turn day_past_due_next_month into 1(yes) or 0(no) and remove last row with no next month info\n",
    "--Add column called utilization which = outstandings/commitments\n",
    "loans3 AS (\n",
    "\n",
    "SELECT \n",
    "    account_number,\n",
    "    month,\n",
    "    fico_score_current,\n",
    "    commitments,\n",
    "    outstandings,\n",
    "    (outstandings/commitments) as utilization,\n",
    "    ltv_current,\n",
    "    origination_dti,\n",
    "    apr,\n",
    "    total_mortgage_balances,\n",
    "    total_he_balances,\n",
    "    num_trades_past_due,\n",
    "    num_he_trades,\n",
    "    CASE WHEN day_past_due_next_month = 0 THEN 0\n",
    "        ELSE 1\n",
    "    END AS delinquent_next_month\n",
    "FROM clean_rows\n",
    "WHERE day_past_due_next_month is not null \n",
    "\n",
    ")\n",
    "\n",
    "SELECT * FROM loans3\n",
    "ORDER BY account_number desc\n",
    "\n",
    ";\n",
    "'''"
   ]
  },
  {
   "cell_type": "code",
   "execution_count": null,
   "metadata": {},
   "outputs": [],
   "source": [
    "#Store results of query in a dataframe\n",
    "train_data = pd.read_sql(query, con = conn)\n",
    "train_data"
   ]
  },
  {
   "cell_type": "code",
   "execution_count": null,
   "metadata": {},
   "outputs": [],
   "source": [
    "print(train_data.describe())"
   ]
  },
  {
   "cell_type": "code",
   "execution_count": null,
   "metadata": {},
   "outputs": [],
   "source": [
    "#Normalize data because orders of magnitude between variables are very different\n",
    "X = train_data.iloc[:,2:13] #independent columns\n",
    "y = train_data.iloc[:,13] #response column\n",
    "normalized_X = preprocessing.normalize(X)"
   ]
  },
  {
   "cell_type": "code",
   "execution_count": null,
   "metadata": {},
   "outputs": [],
   "source": [
    "#Univariate feature selection\n",
    "\n",
    "#apply SelectKBest to rank the features\n",
    "features = SelectKBest(score_func = chi2, k = 'all')\n",
    "fit = features.fit(normalized_X,y)\n",
    "dfscores = pd.DataFrame(fit.scores_)\n",
    "dfcolumns = pd.DataFrame(X.columns)\n",
    "\n",
    "#concat two dataframes for visualization\n",
    "featureScores = pd.concat([dfcolumns,dfscores],axis=1) \n",
    "featureScores.columns = ['feature','Score']  #naming the dataframe columns\n",
    "print(featureScores.nlargest(11,'Score')) # scores is ratio explained over unexplained"
   ]
  },
  {
   "cell_type": "code",
   "execution_count": null,
   "metadata": {},
   "outputs": [],
   "source": [
    "#Horizontal barplot of feature scores\n",
    "\n",
    "# Get the indices sorted by most important to least important\n",
    "indices = np.argsort(fit.scores_)[::-1]\n",
    "\n",
    "# top feature names\n",
    "features = []\n",
    "for i in range(11):\n",
    "    features.append(X.columns[indices[i]])\n",
    "\n",
    "#Plot using seaborn on log scale\n",
    "fig, ax = plt.subplots()\n",
    "ax.set_xscale('log')\n",
    "ax.invert_yaxis()\n",
    "ax.set(xlabel='Scores', ylabel='Features', title = 'Feature Scores Ranked')\n",
    "sns.barplot(fit.scores_[indices[range(11)]], features, palette='Blues_d', orient = 'h', ax = ax)"
   ]
  },
  {
   "cell_type": "code",
   "execution_count": null,
   "metadata": {},
   "outputs": [],
   "source": [
    "#Logistic Regression with GridSearchCV tuning (fitting all possible values)\n",
    "X = train_data.iloc[:,[2, 3, 4, 6, 7, 9, 11]]\n",
    "X_train, X_test, y_train, y_test = train_test_split(X, y, test_size = 0.1)\n",
    "\n",
    "param_grid = {'C': [0.001, 0.01, 0.1, 1, 10, 100, 1000] }\n",
    "clf = GridSearchCV(LogisticRegression(penalty='l2', class_weight = 'balanced'), param_grid)\n",
    "\n",
    "\n",
    "\n",
    "clf.fit(X_train, y_train)\n",
    "y_pred = clf.predict(X_test)\n",
    "\n",
    "print(\"Best score: %.3f\" % clf.score(X_test, y_test))\n",
    "print (classification_report(y_test, y_pred))\n",
    "    \n",
    "count = pd.DataFrame(y_test)\n",
    "count['delinquent_next_month'].value_counts()"
   ]
  },
  {
   "cell_type": "code",
   "execution_count": null,
   "metadata": {},
   "outputs": [],
   "source": [
    "#Confusion matrix, predicted vs actual, heatmap\n",
    "cnf_matrix = confusion_matrix(y_test,y_pred)\n",
    "\n",
    "class_names=['current','delinquent'] # name  of classes\n",
    "fig, ax = plt.subplots()\n",
    "tick_marks = np.arange(len(class_names))\n",
    "plt.xticks(tick_marks, class_names)\n",
    "plt.yticks(tick_marks, class_names)\n",
    "# create heatmap\n",
    "sns.heatmap(pd.DataFrame(cnf_matrix), annot=True, cmap=\"YlGnBu\" ,fmt='g')\n",
    "plt.tight_layout()\n",
    "plt.title('Confusion matrix', y=1.1)\n",
    "plt.ylabel('Actual', rotation = 0)\n",
    "plt.xlabel('Predicted')"
   ]
  },
  {
   "cell_type": "code",
   "execution_count": null,
   "metadata": {},
   "outputs": [],
   "source": [
    "#implementation of model\n",
    "test_data = pd.read_csv() #insert csv file here. Column format: (account_number', 'month', 'fico_score_current', 'commitments', 'outstandings', 'utilization', 'ltv_current', 'origination_dti', 'apr', 'total_mortgage_balances', 'total_he_balances', 'num_trades_past_due', 'num_he_trades')\n",
    "prediction = clf.predict(test_data)\n",
    "submission = pd.DataFrame({\n",
    "    'account_number': test_data['account_number'],\n",
    "    'delinquent': prediction\n",
    "})\n",
    "submission.to_csv('submission.csv', index=False)"
   ]
  },
  {
   "cell_type": "code",
   "execution_count": null,
   "metadata": {},
   "outputs": [],
   "source": []
  },
  {
   "cell_type": "code",
   "execution_count": null,
   "metadata": {},
   "outputs": [],
   "source": []
  },
  {
   "cell_type": "code",
   "execution_count": null,
   "metadata": {},
   "outputs": [],
   "source": []
  },
  {
   "cell_type": "code",
   "execution_count": null,
   "metadata": {},
   "outputs": [],
   "source": []
  }
 ],
 "metadata": {
  "kernelspec": {
   "display_name": "Python 3",
   "language": "python",
   "name": "python3"
  },
  "language_info": {
   "codemirror_mode": {
    "name": "ipython",
    "version": 3
   },
   "file_extension": ".py",
   "mimetype": "text/x-python",
   "name": "python",
   "nbconvert_exporter": "python",
   "pygments_lexer": "ipython3",
   "version": "3.6.5"
  }
 },
 "nbformat": 4,
 "nbformat_minor": 4
}
